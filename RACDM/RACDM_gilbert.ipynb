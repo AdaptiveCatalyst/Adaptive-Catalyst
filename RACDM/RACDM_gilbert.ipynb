{
 "cells": [
  {
   "cell_type": "code",
   "execution_count": 1,
   "metadata": {
    "collapsed": true
   },
   "outputs": [],
   "source": [
    "import numpy as np\n",
    "from numpy import linalg as la\n",
    "import matplotlib.pyplot as plt\n",
    "import scipy\n",
    "from scipy.stats import special_ortho_group\n",
    "\n",
    "from tqdm import tqdm\n",
    "import seaborn as sns\n",
    "sns.set(style=\"whitegrid\", context=\"talk\", font_scale=1.3)"
   ]
  },
  {
   "cell_type": "markdown",
   "metadata": {},
   "source": [
    "# Optimisation problem  \n",
    "$$\n",
    "f(x) = x^\\top A x \\to \\min\\limits_{x \\in \\mathbb{R}^d}\n",
    "$$"
   ]
  },
  {
   "cell_type": "code",
   "execution_count": 22,
   "metadata": {
    "collapsed": true
   },
   "outputs": [],
   "source": [
    "def quadratic_f(A, x):\n",
    "    return x @ A @ x / 2\n",
    "\n",
    "def f(A, x):\n",
    "    return x @ A @ x / 2\n",
    "\n",
    "def grad_f(A, x):\n",
    "    return A @ x\n",
    "\n",
    "def moreau_grad(y, A, kappa, x):\n",
    "    return grad_f(A, y) + kappa * (y - x)\n",
    "\n",
    "def coord_upd(y, k, A, kappa, x):\n",
    "    return A[k] @ y + kappa * (y[k] - x[k])"
   ]
  },
  {
   "cell_type": "markdown",
   "metadata": {},
   "source": [
    "Gilbert matrix generation\n",
    "$$\n",
    "H_{ij} = \\dfrac{1}{i + j - 1}, \\, i, j = \\overline{1, n}\n",
    "$$"
   ]
  },
  {
   "cell_type": "code",
   "execution_count": 4,
   "metadata": {},
   "outputs": [],
   "source": [
    "d = 100\n",
    "A = np.empty((d, d))\n",
    "for i in range(d):\n",
    "    for j in range(d):\n",
    "        A[i, j] = 1 / (i+1 + j+1 - 1)\n",
    "\n",
    "x_star = np.zeros(d)\n",
    "x_0 = np.random.rand(d)"
   ]
  },
  {
   "cell_type": "code",
   "execution_count": 5,
   "metadata": {
    "collapsed": true
   },
   "outputs": [],
   "source": [
    "Lipschitz_const = abs(np.linalg.eigvals(A))\n",
    "Lipsch_max = max(Lipschitz_const)"
   ]
  },
  {
   "cell_type": "code",
   "execution_count": 8,
   "metadata": {
    "collapsed": true
   },
   "outputs": [],
   "source": [
    "EPS = 1e-12"
   ]
  },
  {
   "cell_type": "code",
   "execution_count": 9,
   "metadata": {
    "collapsed": true
   },
   "outputs": [],
   "source": [
    "def grad_descent(y, x, kappa, max_k, step_size=1e-2, *args):\n",
    "    n = A.shape[0]\n",
    "    k = 1\n",
    "\n",
    "    history = [y.copy()]\n",
    "    \n",
    "    while k <= max_k:\n",
    "        y = y - step_size * moreau_grad(y, A, kappa, x)\n",
    "        k += 1\n",
    "        history.append(y.copy())\n",
    "        if (f(A, y) - f(A, x_star)) / (f(A, history[0]) - f(A, x_star)) < EPS:\n",
    "            break\n",
    "\n",
    "    return y, history"
   ]
  },
  {
   "cell_type": "code",
   "execution_count": 11,
   "metadata": {},
   "outputs": [
    {
     "name": "stdout",
     "output_type": "stream",
     "text": [
      "CPU times: user 3.78 s, sys: 500 ms, total: 4.28 s\n",
      "Wall time: 3.99 s\n"
     ]
    },
    {
     "data": {
      "text/plain": [
       "100001"
      ]
     },
     "execution_count": 11,
     "metadata": {},
     "output_type": "execute_result"
    }
   ],
   "source": [
    "%%time\n",
    "x_opt, gd_history = grad_descent(x_0, x_0, 0, 100000, step_size=1/Lipsch_max)\n",
    "len(gd_history)"
   ]
  },
  {
   "cell_type": "code",
   "execution_count": 13,
   "metadata": {},
   "outputs": [
    {
     "data": {
      "image/png": "[encoded data removed]",
      "text/plain": [
       "<Figure size 432x288 with 1 Axes>"
      ]
     },
     "metadata": {
      "needs_background": "light"
     },
     "output_type": "display_data"
    }
   ],
   "source": [
    "plt.semilogy([(f(A, x) - f(A, x_star)) / (f(A, x_0) - f(A, x_star)) for x in gd_history]);"
   ]
  },
  {
   "cell_type": "code",
   "execution_count": 14,
   "metadata": {
    "collapsed": true
   },
   "outputs": [],
   "source": [
    "def steepest_descent(y, x, kappa, max_k, step_size=1e-2, *args): # step_size = 1 / (L + kappa)\n",
    "    n = A.shape[0]\n",
    "    k = 1\n",
    "    history = [y.copy()]\n",
    "    \n",
    "    while k <= max_k:\n",
    "        d = moreau_grad(y, A, kappa, x)\n",
    "        step_size = ((y.T @ A @ d + d.T @ A @ y) / 2 + kappa * d.T @ (y - x)) / ((d.T @ A + kappa * d.T) @ d)\n",
    "        y = y - step_size * moreau_grad(y, A, kappa, x) # grad_f(A, y) # Moreau gradient correction\n",
    "        k += 1\n",
    "\n",
    "        history.append(y.copy())\n",
    "        if (f(A, y) - f(A, x_star)) / (f(A, history[0]) - f(A, x_star)) < EPS:\n",
    "            break\n",
    "\n",
    "    return y, history"
   ]
  },
  {
   "cell_type": "code",
   "execution_count": 74,
   "metadata": {
    "scrolled": true
   },
   "outputs": [
    {
     "data": {
      "text/plain": [
       "2073"
      ]
     },
     "execution_count": 74,
     "metadata": {},
     "output_type": "execute_result"
    }
   ],
   "source": [
    "x_opt, sd_history = steepest_descent(x_0, x_0, 0, 10000, 1)\n",
    "len(sd_history)"
   ]
  },
  {
   "cell_type": "code",
   "execution_count": 17,
   "metadata": {
    "scrolled": true
   },
   "outputs": [
    {
     "data": {
      "text/plain": [
       "100001"
      ]
     },
     "execution_count": 17,
     "metadata": {},
     "output_type": "execute_result"
    }
   ],
   "source": [
    "x_opt, sd_history = steepest_descent(x_0, x_0, 0, 100000, 1)\n",
    "len(sd_history)"
   ]
  },
  {
   "cell_type": "code",
   "execution_count": 18,
   "metadata": {},
   "outputs": [
    {
     "name": "stderr",
     "output_type": "stream",
     "text": [
      "/home/eshulgin/data/mpd/lib/python3.6/site-packages/IPython/core/events.py:88: UserWarning: Creating legend with loc=\"best\" can be slow with large amounts of data.\n",
      "  func(*args, **kwargs)\n",
      "/home/eshulgin/data/mpd/lib/python3.6/site-packages/IPython/core/pylabtools.py:128: UserWarning: Creating legend with loc=\"best\" can be slow with large amounts of data.\n",
      "  fig.canvas.print_figure(bytes_io, **kw)\n"
     ]
    },
    {
     "data": {
      "image/png": "[encoded data removed]",
      "text/plain": [
       "<Figure size 432x288 with 1 Axes>"
      ]
     },
     "metadata": {
      "needs_background": "light"
     },
     "output_type": "display_data"
    }
   ],
   "source": [
    "plt.semilogy([(f(A, x) - f(A, x_star)) / (f(A, x_0) - f(A, x_star)) \n",
    "              for x in gd_history], label='Gradient descent')\n",
    "plt.semilogy([(f(A, x) - f(A, x_star)) / (f(A, x_0) - f(A, x_star)) \n",
    "              for x in sd_history], label='Steepest descent')\n",
    "plt.ylabel(\"Argument error\")\n",
    "plt.legend();"
   ]
  },
  {
   "cell_type": "code",
   "execution_count": 20,
   "metadata": {
    "collapsed": true
   },
   "outputs": [],
   "source": [
    "def RACDM(y, x, kappa, max_k, L, *args):\n",
    "    y = y.copy()\n",
    "    y_prev = y.copy()\n",
    "    \n",
    "    step_sizes = (1 / L).copy()\n",
    "    \n",
    "    history = [y.copy()]\n",
    "    k = 0\n",
    "    \n",
    "    while k <= max_k:\n",
    "        i = np.random.randint(0, A.shape[1])\n",
    "        y[i] = y[i] - step_sizes[i] * coord_upd(y, i, A, kappa, x)\n",
    "\n",
    "        t = 0 \n",
    "        while (coord_upd(y, i, A, kappa, x) * coord_upd(y_prev, i, A, kappa, x) < 0) and (t < 1000):\n",
    "            t += 1\n",
    "            step_sizes[i] /= 2\n",
    "            y[i] = y_prev[i] - step_sizes[i] * coord_upd(y_prev, i, A, kappa, x)\n",
    "            \n",
    "        if t > 100:\n",
    "            print(t)\n",
    "        y_prev = y.copy()\n",
    "        k += 1 #(1+t)\n",
    "        step_sizes[i] *= 2\n",
    "        history.append(y.copy())\n",
    "            \n",
    "    return y, history, step_sizes"
   ]
  },
  {
   "cell_type": "code",
   "execution_count": 27,
   "metadata": {},
   "outputs": [
    {
     "name": "stdout",
     "output_type": "stream",
     "text": [
      "CPU times: user 21.5 s, sys: 824 ms, total: 22.3 s\n",
      "Wall time: 22.1 s\n"
     ]
    }
   ],
   "source": [
    "%%time\n",
    "x_opt, cd_history, step_sizes = RACDM(x_0, x_0, kappa=0, max_k=1000000, L=np.diag(A))"
   ]
  },
  {
   "cell_type": "code",
   "execution_count": 28,
   "metadata": {},
   "outputs": [
    {
     "name": "stderr",
     "output_type": "stream",
     "text": [
      "100%|██████████| 1000002/1000002 [00:21<00:00, 45593.76it/s]"
     ]
    },
    {
     "name": "stdout",
     "output_type": "stream",
     "text": [
      "CPU times: user 21.5 s, sys: 340 ms, total: 21.8 s\n",
      "Wall time: 21.9 s\n"
     ]
    },
    {
     "name": "stderr",
     "output_type": "stream",
     "text": [
      "\n"
     ]
    }
   ],
   "source": [
    "%%time\n",
    "RACDM_plot = [(f(A, x) - f(A, x_star)) / (f(A, x_0) - f(A, x_star)) for x in tqdm(cd_history)]"
   ]
  },
  {
   "cell_type": "code",
   "execution_count": 29,
   "metadata": {},
   "outputs": [
    {
     "data": {
      "image/png": "[encoded data removed]",
      "text/plain": [
       "<Figure size 432x288 with 1 Axes>"
      ]
     },
     "metadata": {
      "needs_background": "light"
     },
     "output_type": "display_data"
    }
   ],
   "source": [
    "plt.semilogy(RACDM_plot, label='RACDM')\n",
    "plt.legend();"
   ]
  },
  {
   "cell_type": "code",
   "execution_count": 30,
   "metadata": {
    "collapsed": true
   },
   "outputs": [],
   "source": [
    "def monteiro_svaiter(x_0, B_0, kappa_0, kappa_min, kappa_max, inner_method,\n",
    "                     incr_coeff=3, decr_coeff=2, koef=3, max_iter=10**2, *args, **kwargs):\n",
    "    z, y = x_0.copy(), x_0.copy()\n",
    "    B = B_0\n",
    "    kappa = kappa_0\n",
    "    n = A.shape[0]\n",
    "    history = [x_0.copy()]\n",
    "    L = np.array([1 / kappa_0] * n)\n",
    "    complexity_history = []\n",
    "    kappa_list = []\n",
    "    restarts = []\n",
    "    \n",
    "    a = (1 / kappa + np.sqrt(1 / kappa**2 + 4 * B / kappa)) / 2\n",
    "    B_old = B\n",
    "    B = B + a\n",
    "    x = B_old / B * y + a / B * z\n",
    "    \n",
    "    k = 0\n",
    "    while k < max_iter:\n",
    "        print(\"  Outer iter {}\".format(k))\n",
    "        a = (1 / kappa + np.sqrt(1 / kappa**2 + 4 * B / kappa)) / 2\n",
    "        B_old = B\n",
    "        B = B + a\n",
    "        x = B_old / B * y + a / B * z\n",
    "\n",
    "        current_complexities = []\n",
    "        t = 0\n",
    "        while (kappa > kappa_min):\n",
    "            if  (len(current_complexities) > 2) and (t > koef * (current_complexities[-2] + current_complexities[-3])/2):\n",
    "                break\n",
    "            if  (len(current_complexities) > 1) and (t > koef * current_complexities[-2]):\n",
    "                break\n",
    "\n",
    "            t = 0\n",
    "            while (la.norm(moreau_grad(y, A, kappa, x)) > la.norm(y - x) * kappa / 2.0) and (t < 1000):\n",
    "                y, inner_hist, step_sizes = inner_method(y, x, kappa, max_k=n, L=L, *args)\n",
    "                L = 1 / step_sizes\n",
    "                history.extend(inner_hist.copy())\n",
    "                t += 1\n",
    "                if (f(A, y) - f(A, x_star)) / (f(A, x_0) - f(A, x_star)) < EPS:\n",
    "                    break\n",
    "            print(\"t =\", t, \"Condition const: \", la.norm(moreau_grad(y, A, kappa, x)), la.norm(y - x) * kappa / 2.0)\n",
    "\n",
    "            current_complexities.append(t)\n",
    "            kappa = kappa / decr_coeff\n",
    "            \n",
    "            if (f(A, y) - f(A, x_star)) / (f(A, x_0) - f(A, x_star)) < EPS:\n",
    "                break\n",
    "        \n",
    "        print(\"kappa = {}\".format(kappa))\n",
    "        print(current_complexities)\n",
    "        \n",
    "        z = z - a * grad_f(A, y)\n",
    "        kappa = incr_coeff*kappa if incr_coeff*kappa < kappa_max else kappa\n",
    "        \n",
    "        k += 1\n",
    "        history.append(y.copy())\n",
    "        complexity_history.append(current_complexities)\n",
    "        kappa_list.append(kappa)\n",
    "        restarts.append(len(history))\n",
    "        print()\n",
    "        \n",
    "        if (f(A, y) - f(A, x_star)) / (f(A, x_0) - f(A, x_star)) < EPS:\n",
    "            break\n",
    "    \n",
    "    return y, history, complexity_history, kappa_list, restarts#points"
   ]
  },
  {
   "cell_type": "code",
   "execution_count": 51,
   "metadata": {},
   "outputs": [
    {
     "data": {
      "text/plain": [
       "(1.5981246748524363, 0.009988279217827726)"
      ]
     },
     "execution_count": 51,
     "metadata": {},
     "output_type": "execute_result"
    }
   ],
   "source": [
    "2*Lipsch_max*0.8, Lipsch_max/100"
   ]
  },
  {
   "cell_type": "code",
   "execution_count": null,
   "metadata": {},
   "outputs": [],
   "source": [
    "# output cleared\n",
    "%%time\n",
    "inc_coeff = 3; dec_coeff = 2; k = 1.5\n",
    "x_opt, ms_history, complexity_history, kappas, restarts = monteiro_svaiter(x_0, 0, kappa_0=2*Lipsch_max*0.8,\n",
    "                                                                           kappa_min=Lipsch_max/200,\n",
    "                                                                           kappa_max=Lipsch_max*10,\n",
    "                                                                           inner_method=RACDM, max_iter=20,\n",
    "                                                                           incr_coeff=inc_coeff, \n",
    "                                                                           decr_coeff=dec_coeff, \n",
    "                                                                           koef=k)\n",
    "complexity_history, np.sum(np.sum(complexity_history)), len(ms_history)"
   ]
  },
  {
   "cell_type": "code",
   "execution_count": 33,
   "metadata": {},
   "outputs": [
    {
     "name": "stderr",
     "output_type": "stream",
     "text": [
      "100%|██████████| 61629/61629 [00:01<00:00, 40656.08it/s]"
     ]
    },
    {
     "name": "stdout",
     "output_type": "stream",
     "text": [
      "CPU times: user 1.46 s, sys: 4 ms, total: 1.47 s\n",
      "Wall time: 1.52 s\n"
     ]
    },
    {
     "name": "stderr",
     "output_type": "stream",
     "text": [
      "\n"
     ]
    }
   ],
   "source": [
    "%%time\n",
    "MS_RACDM_plot = [(f(A, x) - f(A, x_star)) / (f(A, x_0) - f(A, x_star)) for x in tqdm(ms_history)]"
   ]
  },
  {
   "cell_type": "code",
   "execution_count": 35,
   "metadata": {},
   "outputs": [
    {
     "data": {
      "image/png": "[encoded data removed]",
      "text/plain": [
       "<Figure size 432x288 with 1 Axes>"
      ]
     },
     "metadata": {
      "needs_background": "light"
     },
     "output_type": "display_data"
    }
   ],
   "source": [
    "plt.semilogy(RACDM_plot[:len(MS_RACDM_plot)], label='RACDM')\n",
    "plt.semilogy(MS_RACDM_plot[:len(RACDM_plot)], label='M-S RACDM')\n",
    "plt.title(\"Results for Hilbert matrix\")\n",
    "plt.legend();"
   ]
  }
 ],
 "metadata": {
  "kernelspec": {
   "display_name": "mpd",
   "language": "python",
   "name": "mpd"
  },
  "language_info": {
   "codemirror_mode": {
    "name": "ipython",
    "version": 3
   },
   "file_extension": ".py",
   "mimetype": "text/x-python",
   "name": "python",
   "nbconvert_exporter": "python",
   "pygments_lexer": "ipython3",
   "version": "3.6.8"
  }
 },
 "nbformat": 4,
 "nbformat_minor": 2
}
