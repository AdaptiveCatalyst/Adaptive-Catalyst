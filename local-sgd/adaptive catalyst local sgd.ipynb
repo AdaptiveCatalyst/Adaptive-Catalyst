{
 "cells": [
  {
   "cell_type": "code",
   "execution_count": 1,
   "metadata": {},
   "outputs": [],
   "source": [
    "import numpy as np\n",
    "from numpy.linalg import norm\n",
    "import random\n",
    "\n",
    "import matplotlib.pyplot as plt\n",
    "%matplotlib inline"
   ]
  },
  {
   "cell_type": "code",
   "execution_count": 2,
   "metadata": {},
   "outputs": [],
   "source": [
    "from load_data import load_adult\n",
    "m, n, x, y, sparse_features, not_sparse_features = load_adult()"
   ]
  },
  {
   "cell_type": "code",
   "execution_count": 3,
   "metadata": {},
   "outputs": [],
   "source": [
    "seed = 777\n",
    "random.seed(seed)\n",
    "np.random.seed(seed)"
   ]
  },
  {
   "cell_type": "code",
   "execution_count": 4,
   "metadata": {},
   "outputs": [],
   "source": [
    "w0 = np.random.random(n)"
   ]
  },
  {
   "cell_type": "code",
   "execution_count": 5,
   "metadata": {},
   "outputs": [],
   "source": [
    "lambda1 = 1.1\n",
    "lambda2 = 2.1\n",
    "\n",
    "g = lambda w: lambda1 * norm(w[sparse_features])**2 + lambda2 * norm(w[not_sparse_features])**2\n",
    "F = lambda w: np.log(1 + np.exp(-y*x.dot(w))).mean() + g(w)\n",
    "\n",
    "def g_grad(w):\n",
    "    grad = np.zeros(n)\n",
    "    grad[sparse_features] = 2 * lambda1 * w[sparse_features]\n",
    "    grad[not_sparse_features] = 2 * lambda2 * w[not_sparse_features]\n",
    "    return grad\n",
    "\n",
    "F_grad = lambda w: np.multiply(x.T, -y * np.exp(x.dot(w)) / (1 + np.exp(x.dot(w)))).mean(axis=1) + g_grad(w)\n",
    "F_stoch_grad_batch = lambda w, k_set: np.multiply(x[k_set].T, -y[k_set] * np.exp(x[k_set].dot(w)) / (1 + np.exp(x[k_set].dot(w)))).mean(axis=1) + g_grad(w)\n",
    "\n",
    "def g_grad_flat(w):\n",
    "    grad = np.zeros_like(w)\n",
    "    grad[:, sparse_features] = 2 * lambda1 * w[:, sparse_features]\n",
    "    grad[:, not_sparse_features] = 2 * lambda2 * w[:, not_sparse_features]\n",
    "    return grad\n",
    "\n",
    "F_stoch_grad_batch_flat = lambda w, k_set: np.multiply(x[k_set].T, -y[k_set] * np.exp(w.dot(x[k_set].T))[:, None] / (1 + np.exp(w.dot(x[k_set].T)))[:, None]).mean(axis=2) + g_grad_flat(w)"
   ]
  },
  {
   "cell_type": "code",
   "execution_count": 6,
   "metadata": {},
   "outputs": [],
   "source": [
    "from utils import estimate_constants\n",
    "L, mu = estimate_constants(F, F_grad, n)"
   ]
  },
  {
   "cell_type": "code",
   "execution_count": 7,
   "metadata": {},
   "outputs": [
    {
     "data": {
      "application/vnd.jupyter.widget-view+json": {
       "model_id": "0f127ff8e2f04f9abd4ef25bf7dbdcb6",
       "version_major": 2,
       "version_minor": 0
      },
      "text/plain": [
       "HBox(children=(IntProgress(value=0, max=1400), HTML(value='')))"
      ]
     },
     "metadata": {},
     "output_type": "display_data"
    },
    {
     "name": "stdout",
     "output_type": "stream",
     "text": [
      "\n"
     ]
    }
   ],
   "source": [
    "from local_sgd import local_sgd, local_sgd_prox\n",
    "points, losses, syncs = local_sgd(F, w0, L, mu, m,\n",
    "                                  workers=20, syncs_interval=400, maxiter=1400,\n",
    "                                  stoch_grad_batch=F_stoch_grad_batch, \n",
    "                                  stoch_grad_batch_flat=F_stoch_grad_batch_flat)"
   ]
  },
  {
   "cell_type": "code",
   "execution_count": 8,
   "metadata": {},
   "outputs": [
    {
     "data": {
      "text/plain": [
       "<matplotlib.legend.Legend at 0x102c2fe90>"
      ]
     },
     "execution_count": 8,
     "metadata": {},
     "output_type": "execute_result"
    },
    {
     "data": {
      "image/png": "[encoded data removed]",
      "text/plain": [
       "<Figure size 432x288 with 1 Axes>"
      ]
     },
     "metadata": {},
     "output_type": "display_data"
    }
   ],
   "source": [
    "plt.plot(losses, label=\"Local SGD\\nworkers=20, syncs interval=400\")\n",
    "plt.xlabel(\"iterations\")\n",
    "plt.ylabel(\"functional suboptimality\")\n",
    "plt.legend()"
   ]
  },
  {
   "cell_type": "code",
   "execution_count": 9,
   "metadata": {},
   "outputs": [],
   "source": [
    "inner_method = lambda xk, Lk, maxiter, total_iter: local_sgd_prox(\n",
    "    F, F_grad, xk, L, Lk, mu, m, \n",
    "    workers=20, syncs_interval=400, maxiter=maxiter, total_iter=total_iter,\n",
    "    batch_size=None, stoch_grad_batch=F_stoch_grad_batch, stoch_grad_batch_flat=F_stoch_grad_batch_flat\n",
    ")"
   ]
  },
  {
   "cell_type": "code",
   "execution_count": 10,
   "metadata": {},
   "outputs": [
    {
     "name": "stdout",
     "output_type": "stream",
     "text": [
      "outer iter 1\n",
      "––– inner iter 1 L = 2.5786 (total iters 0)\n",
      "    34.27788562489146\n",
      "    28.64223415086261\n",
      "    24.48120063473728\n",
      "    21.345442999679126\n",
      "    18.957121566491313\n",
      "    17.11897408195072\n",
      "    15.687345200176225\n",
      "  > 14.770948159149222\n",
      "––– inner iter 2 L = 2.1488 (total iters 138)\n",
      "    34.713168756641835\n",
      "    28.930259568617224\n",
      "    24.57096537906019\n",
      "    21.26852289601298\n",
      "    18.72724369045411\n",
      "    16.752831386345832\n",
      "    15.204707156126853\n",
      "    13.97722673130797\n",
      "    13.000539169048634\n",
      "  > 12.914389647533026\n",
      "outer iter 2\n",
      "––– inner iter 1 L = 3.0083 (total iters 302)\n",
      "    8.573089142326793\n",
      "    7.275016284820891\n",
      "    6.321881370814683\n",
      "    5.611900037429082\n",
      "    5.074992516121267\n",
      "    4.667214125741145\n",
      "  > 4.3519343411055\n",
      "––– inner iter 2 L = 2.5069 (total iters 424)\n",
      "    8.363024402102532\n",
      "    7.089212476651148\n",
      "    6.141382691152818\n",
      "    5.427417763920388\n",
      "    4.879226121129712\n",
      "    4.4541765261927075\n",
      "    4.121801163960117\n",
      "    3.8611597840989464\n",
      "  > 3.8496340407991645\n",
      "outer iter 3\n",
      "––– inner iter 1 L = 3.5097 (total iters 567)\n",
      "    1.6291681844941013\n",
      "    1.4785972693569804\n",
      "    1.3704132526202484\n",
      "    1.2888443138783647\n",
      "    1.229437583703377\n",
      "    1.1841133152648426\n",
      "  > 1.1745192957273045\n",
      "––– inner iter 2 L = 2.9248 (total iters 674)\n",
      "    1.525200889488612\n",
      "    1.393520023078855\n",
      "    1.2948860336204153\n",
      "    1.2185811717069375\n",
      "    1.1602596936984988\n",
      "    1.1161890424194965\n",
      "    1.0822499389531632\n",
      "  > 1.0764322863226208\n",
      "outer iter 4\n",
      "––– inner iter 1 L = 3.6837 (total iters 800)\n",
      "    0.6812216768853376\n",
      "    0.6801116849749057\n",
      "    0.6797182359558414\n",
      "    0.6792479412306729\n",
      "    0.6787759049851074\n",
      "  > 0.678386329638766\n",
      "––– inner iter 2 L = 3.0697 (total iters 901)\n",
      "    0.6828480698963852\n",
      "    0.6813623286206957\n",
      "    0.6801738711357076\n",
      "    0.6789700796844254\n",
      "    0.6780339879889009\n",
      "    0.6775720798836952\n",
      "    0.6773664055583467\n",
      "  > 0.6773181054198444\n",
      "outer iter 5\n",
      "––– inner iter 1 L = 3.6837 (total iters 1032)\n",
      "    0.7853500933336308\n",
      "    0.7660464704206518\n",
      "    0.7520828650239574\n",
      "    0.7418944367557201\n",
      "    0.7343451926305091\n",
      "    0.7287050894509964\n",
      "  > 0.7279919569027585\n",
      "––– inner iter 2 L = 3.0697 (total iters 1137)\n",
      "    0.8029871043043454\n",
      "    0.7800046253420839\n",
      "    0.7633291609643275\n",
      "    0.7511049404014772\n",
      "    0.7418606027327687\n",
      "    0.7348671283842175\n",
      "  > 0.7308022466846327\n",
      "outer iter 6\n",
      "––– inner iter 1 L = 3.6837 (total iters 1254)\n",
      "    0.7465642068794703\n",
      "    0.7338833859979664\n",
      "    0.7246832839904878\n",
      "    0.7180718575237875\n",
      "    0.7132011465721859\n",
      "    0.7095431722201713\n",
      "  > 0.709387063860006\n",
      "––– inner iter 2 L = 3.0697 (total iters 1357)\n",
      "    0.7584282093728631\n",
      "    0.7436185046464896\n",
      "    0.7326840776060266\n",
      "    0.7245601451996923\n",
      "    0.7184938457183947\n",
      "    0.7139760534149131\n",
      "  > 0.7110240826495596\n",
      "(total iters 1476)\n"
     ]
    }
   ],
   "source": [
    "from catalyst import catalyst\n",
    "catalyst_points, catalyst_losses, catalyst_syncs = catalyst(\n",
    "    F, F_grad, w0, inner_method, \n",
    "    L0=L, Lu=2*L, Ld=0.005*L,\n",
    "    alpha=1.4, beta=1.2, gamma=1.1, \n",
    "    maxiter=6, maxiter_inner=2000\n",
    ")"
   ]
  },
  {
   "cell_type": "code",
   "execution_count": 11,
   "metadata": {},
   "outputs": [],
   "source": [
    "flat_catalyst_losses = np.minimum.accumulate(catalyst_losses)"
   ]
  },
  {
   "cell_type": "code",
   "execution_count": 12,
   "metadata": {},
   "outputs": [],
   "source": [
    "length = min(\n",
    "    losses.shape[0],\n",
    "    flat_catalyst_losses.shape[0]\n",
    ")"
   ]
  },
  {
   "cell_type": "code",
   "execution_count": 13,
   "metadata": {},
   "outputs": [],
   "source": [
    "f_opt = min(\n",
    "    losses[:length].min(),\n",
    "    flat_catalyst_losses[:length].min()\n",
    ")"
   ]
  },
  {
   "cell_type": "code",
   "execution_count": 14,
   "metadata": {},
   "outputs": [
    {
     "data": {
      "text/plain": [
       "<matplotlib.legend.Legend at 0x10e1dc590>"
      ]
     },
     "execution_count": 14,
     "metadata": {},
     "output_type": "execute_result"
    },
    {
     "data": {
      "image/png": "[encoded data removed]",
      "text/plain": [
       "<Figure size 432x288 with 1 Axes>"
      ]
     },
     "metadata": {},
     "output_type": "display_data"
    }
   ],
   "source": [
    "plt.semilogy(losses[:length] - f_opt, label=\"Local SGD\\nworkers=20, syncs interval=400\")\n",
    "plt.semilogy(flat_catalyst_losses[:length]  - f_opt, label=\"Catalyst Local SGD ($\\\\alpha=1.15$, $\\\\beta=1.12$, $\\\\gamma=1.1$)\\nworkers=20, syncs interval=400\")\n",
    "plt.xlabel(\"iterations\")\n",
    "plt.ylabel(\"functional suboptimality\")\n",
    "plt.legend()"
   ]
  },
  {
   "cell_type": "code",
   "execution_count": null,
   "metadata": {},
   "outputs": [],
   "source": []
  }
 ],
 "metadata": {
  "kernelspec": {
   "display_name": "local-sgd-env",
   "language": "python",
   "name": "local-sgd-env"
  },
  "language_info": {
   "codemirror_mode": {
    "name": "ipython",
    "version": 3
   },
   "file_extension": ".py",
   "mimetype": "text/x-python",
   "name": "python",
   "nbconvert_exporter": "python",
   "pygments_lexer": "ipython3",
   "version": "3.7.5"
  }
 },
 "nbformat": 4,
 "nbformat_minor": 2
}
